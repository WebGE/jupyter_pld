{
 "cells": [
  {
   "cell_type": "markdown",
   "metadata": {},
   "source": [
    "# Logique combinatoire - PLD - SUJET"
   ]
  },
  {
   "cell_type": "markdown",
   "metadata": {},
   "source": [
    "**Ressources** : <button><a style=\"text-decoration:none\" href=\"https://webge.fr/dokuwiki/doku.php?id=materiels:pld#hardware_-_pld_cpld\">PLD, CPLD sur WebGE</a></button>\n",
    "<button><a style=\"text-decoration:none\" href=\"https://webge.fr/dokuwiki/doku.php?id=python:accueilpython\" target=\"_blank\">Wiki Python sur WebGE</a></button>\n",
    "<button><a href=\"https://webge.fr/dokuwiki/doku.php?id=python:bases:chaines#python_-_chaines_de_caracteres\" target=\"_blank\">Les chaînes de caractères en Python</a></button>\n",
    "<button><a style=\"text-decoration:none\" href=\"https://webge.fr/doc/tnsi/tp/Architectures/TNSI_ARCH_DR_Logique_Comb_PLD.zip\" target=\"_blank\">Document réponse</a></button>\n",
    "<button><a style=\"text-decoration:none\" href=\"https://webge.fr/doc/tnsi/tp/Architectures/AidecreerVecteursTest.pdf\" target=\"_blank\">Aide creerVecteursTest</a></button>"
   ]
  },
  {
   "cell_type": "markdown",
   "metadata": {},
   "source": [
    "---\n",
    "\n",
    "**Sommaire**\n",
    "<ol>\n",
    "    <li>Présentation\n",
    "        <ol>\n",
    "            <li>Historique</li>\n",
    "            <li>La fonction \"Décodage\"</li>\n",
    "        </ol>\n",
    "    </li>\n",
    "    <li>Enoncé</li>\n",
    "    <li>Equations de la fonction \"Décodage\"</li>\n",
    "    <li>Simulation\n",
    "        <ol>\n",
    "            <li>Préparation des vecteurs de test</li>\n",
    "            <li>Exemple d'utilisation des vecteurs de test</li>\n",
    "            <li>Test des sorties RAM, ROM et OE de la fonction \"Décodage\"</li>\n",
    "            <li>Génération automatique de la table des vecteurs de test</li>\n",
    "        </ol>\n",
    "    </li>\n",
    "    <li>Synthèse dans WokWi : code du testeur de circuits logiques</li>\n",
    "</ol>\n",
    "\n",
    "----"
   ]
  },
  {
   "cell_type": "markdown",
   "metadata": {},
   "source": [
    "### Objectifs\n",
    "Dans le cadre d’un projet de testeur de circuits logiques, implémenter un programme de test destiné à vérifier et valider le comportement d’une fonction logique.\n",
    "\n",
    "---"
   ]
  },
  {
   "cell_type": "markdown",
   "metadata": {},
   "source": [
    "### Mots-Clés\n",
    "Logigramme, opérateurs logiques, Python, table, tuple, structures alternatives et répétitives, fonction.\n",
    "\n",
    "---"
   ]
  },
  {
   "cell_type": "markdown",
   "metadata": {},
   "source": [
    "## 1. Présentation\n",
    "Les circuits électroniques – tels que les **microprocesseurs**, **chipsets** ou **System-on-Chip** (**SoC**) – sont au cœur du fonctionnement de nos outils numériques (ordinateurs, tablettes, smartphones, etc.).\n",
    "Ils reposent sur un assemblage de **fonctions logiques complexes** (unité arithmétique et logique, multiplexeur, décodeur…) elles-mêmes construites à partir d’opérateurs **logiques** :\n",
    "<ul>\n",
    "    <li><b>Combinatoires</b> : ET, OU, NON, etc.</li>\n",
    "    <li><b>Séquentiels</b> : bascules.</li>\n",
    "</ul>"
   ]
  },
  {
   "cell_type": "markdown",
   "metadata": {},
   "source": [
    "### 1.A Historique\n",
    "\n",
    "<table >\n",
    "    <tr>\n",
    " <td style=\"text-align:justify; font-size:14px\">\n",
    "            <p>La figure ci-contre représente le boîtier <strong>DIP</strong> (<strong>D</strong>ual <strong>I</strong>n <strong>P</strong>ackage) à 14 broches d’un circuit intégré de type <strong><a href=\"https://fr.wikipedia.org/wiki/Circuit_int%C3%A9gr%C3%A9\" target=\"_blank\">SSI</a></strong> (<strong>S</strong>mall <strong>S</strong>cale <strong>I</strong>ntegration) contenant quatre portes ET à deux entrées. <br> Apparus en 1964, les circuits logiques SSI sont encore utilisés. Ils contiennent de 1 à 12 portes. Dans les <strong>années 80</strong>, une fonction logique telle que celle représentée par le logigramme ci-dessous nécessitait l’utilisation de <strong>trois circuits intégrés </strong> de type SSI intégrant chacun quatre portes logiques.</p> <br> Ces composants étaient soudés et interconnectés par des pistes de cuivre sur un circuit imprimé comme sur la photo ci-dessous :\n",
    "        </td>\n",
    "        <td>\n",
    "            <img src=\"img/7400.gif\">\n",
    "        </td>\n",
    "    </tr>\n",
    "</table>\n",
    "\n",
    "<div style=\"text-align: center\" ><img src =\"img/decodeur.jpg\"></div>\n",
    "\n",
    "<table >\n",
    "    <tr>\n",
    "        <td>\n",
    "            <div style=\"text-align:center;width:200px;\"><img src=\"img/fpga.png\"></div>\n",
    "        </td>\n",
    "        <td style=\"text-align:justify; font-size:14px\">\n",
    "            <h4>Des circuits intégrés aux circuits logiques programmables</h4>\n",
    "            Aujourd’hui, on dispose de <b>circuits logiques programmables</b> (<b>P</b>rogrammable <b>L</b>ogic <b>D</b>evices - PLD) capables de remplacer <b>des dizaines jusqu’à plusieurs centaines de milliers de circuits intégrés</b>. <br><br><b>Programmable</b> ne signifie pas que le circuit exécute un programme : <br> cela veut dire que <b>ses opérateurs logiques internes</b> sont <b>interconnectés par configuration logicielle</b>. <br>\n",
    "Si la fonction doit être modifiée, le composant peut être <b>effacé et reprogrammé</b>. <a href=\"https://webge.fr/dokuwiki/doku.php?id=materiels:pld\" target=\"_blank\">Pour en savoir plus</a>.<br><br>\n",
    "            Un <b>PLD</b> contient :\n",
    "            <ul>\n",
    "                <li>de très nombreux opérateurs logiques combinatoires et séquentiels,</li>\n",
    "                <li>une architecture flexible permettant de concevoir des systèmes logiques complexes,</li>\n",
    "                <li>des avantages en termes de fiabilité, coût de fabrication et évolutivité.</li>\n",
    "            </ul>\n",
    "        </td>\n",
    "    </tr>\n",
    "</table>\n",
    "\n",
    "<table>\n",
    "    <tr>\n",
    "        <td style=\"text-align:justify; font-size:14px\">\n",
    "            L’<b>interconnexion</b> des opérateurs logiques est réalisée à l’aide d’un <b>logiciel de programmation</b> sur ordinateur..<br><br>\n",
    "            <h4>Conception et programmation d’un PLD</h4>\n",
    "            <ul>\n",
    "                <li>Pour une fonction <b>simple et purement combinatoire</b>, il suffit de <b>décrire les équations logiques booléennes</b> dans le logiciel de programmation.</li>\n",
    "                <li>Pour des systèmes plus complexes, la configuration se fait via un <b>langage de description matériel (HDL)</b> ou un <b>outil de saisie graphique</b>.</li>\n",
    "                <li>Après <b>compilation</b>, on obtient un <b>fichier de configuration</b> à charger dans le circuit.</li>\n",
    "            </ul>\n",
    "        </td>\n",
    "        <td>\n",
    "            <div style=\"text-align:center\"><img src=\"img/quartus.jpg\" width=\"150px\"></div>\n",
    "        </td>\n",
    "    </tr>\n",
    "</table>\n",
    "\n",
    "<table >\n",
    "    <tr>\n",
    "        <td><div style=\"text-align:center;\"><img src=\"img/migen_logo.png\" width=\"100px\"></div></td>\n",
    "         <td style=\"text-align:justify; font-size:14px\">\n",
    "             Les langages de description matériels les plus courants sont :\n",
    "                <ul>\n",
    "                    <li><b>VHDL</b></li>\n",
    "                    <li><b>Verilog</b></li>\n",
    "                </ul>\n",
    "            On trouve également des outils plus modernes comme <a href=\"https://m-labs.hk/migen/manual/introduction.html\" target=\"_blank\"><b>Migen</b></a> (basé sur Python), qui <b>automatise la conception</b> des circuits logiques.\n",
    "    </tr>\n",
    "</table>"
   ]
  },
  {
   "cell_type": "markdown",
   "metadata": {},
   "source": [
    "### 1.B La fonction \"Décodage\"\n",
    "La fonction logique \"**Décodage**\" est une fonction **combinatoire**. Elle reçoit <b>n bits en entrée</b>, ce qui correspond à <b>2<sup>n</sup> combinaisons possibles</b>, et fournie <b>M bits en sortie</b> telle que <b>M ≤ 2<sup>n</sup></b>. <br>\n",
    "Ce type de fonction est <b>couramment utilisé en électronique numérique</b>, notamment dans les microprocesseurs pour la réalisation des <b>décodeurs d’instructions</b>.<div style=\"text-align:center\"><img src=\"img/registres.jpg\"></div>\n",
    "\n",
    "## 2. Enoncé\n",
    "Dans le cadre de la <b>modification d’une carte électronique</b>, il est nécessaire d’<b>intégrer une fonction de décodage</b> initialement implémentée à l’aide de <b>trois composants logiques distincts</b> dans un <b>PLD (Programmable Logic Device)</b>. <div style=\"text-align:center\"><img src=\"img/decodeur3.png\"></div> Le <b>logigramme</b> de cette fonction est fourni ci-dessous.\n",
    "\n",
    "#### Logigramme\n",
    "<div style=\"text-align:center\"><img src=\"img/decodeur2.png\"></div>\n",
    "<p style=\"text-align:right;\">Dessiné avec <a href=\"https://www.digikey.com/schemeit/\" target=\"_blank\">Scheme-it.</a></p>"
   ]
  },
  {
   "cell_type": "markdown",
   "metadata": {},
   "source": [
    "## 3. Equations de la fonction \"Décodage\"\n",
    "On limite l'étude à trois des six sorties de la fonction \"**Décodage**\". \n",
    "\n",
    "> **Activité 1**\n",
    ">\n",
    "> Si l'activité n'a pas été préparée en cours, **écrivez** les équations de RAM, ROM et OE sur le **document réponse**. "
   ]
  },
  {
   "cell_type": "markdown",
   "metadata": {},
   "source": [
    "## 4. Simulation\n",
    "Après la **programmation d’un PLD**, il est indispensable de **vérifier son bon fonctionnement**.\n",
    "\n",
    "Dans le cas d’une **fonction combinatoire**, cette vérification consiste à **appliquer sur ses entrées toutes les combinaisons logiques possibles** et à comparer chaque état de sortie avec celui **attendu**.\n",
    "Cette procédure est généralement **automatisée par l’outil de programmation**, mais **l’écriture des vecteurs de test** reste à la charge du **concepteur**.\n",
    "\n",
    "Un **vecteur de test** est constitué :\n",
    "<ul>\n",
    "    <li>des <b>valeurs appliquées aux entrées</b> de la fonction à tester (E1, E2, …, En), et</li>\n",
    "    <li>du <b>résultat attendu</b> sur la sortie (S).</li>\n",
    "</ul>\n",
    "\n",
    "Ainsi, le vecteur de test numéro i peut s’exprimer sous la forme : **Vi(E1, E2, …, En, S)**\n",
    "\n",
    "**Exemple**<br>\n",
    "Pour le test d’une fonction f() implantée dans un PLD et définie par : **S = /E1.E2 + E1./E2** où  / représente la **négation logique (NOT)**,\n",
    "\n",
    "<div style=\"text-align:center\"><img src=\"img/extest.png\" title=\"Fonction Ou Exclusif\"></div>\n",
    "\n",
    "Dans l’exemple précédent, les vecteurs de test V1(0,0,0), V2(0,1,1), V3(1,0,1) et V4(1,1,0) sont appliqués successivement aux entrées du PLD correspondant à la fonction f() afin de vérifier la conformité de sa sortie avec les valeurs attendues. \n",
    "\n",
    "<p style=\"background-color:lightgrey; text-align:center; font-size:15px;\">Pour tester une sortie logique combinatoire, il est nécessaire d’écrire <strong>2<sup>n</sup></strong> vecteurs. <br> <b>n représente le nombre d’entrées de la fonction.</b></p>"
   ]
  },
  {
   "cell_type": "markdown",
   "metadata": {},
   "source": [
    "### 4.A Préparation des vecteurs de test\n",
    "\n",
    "> **Activité 2** \n",
    ">\n",
    "> Si l'activité n'a pas été préparée en cours, **complétez** les tables de vérité du document réponse avec les **résultats attendus** sur les sorties **RAM**, **ROM** et **OE**."
   ]
  },
  {
   "cell_type": "markdown",
   "metadata": {},
   "source": [
    "### 4.B Exemple d'utilisation des vecteurs de test\n",
    " * **Ressources** : <a href=\"https://webge.fr/dokuwiki/doku.php?id=python:bases:listes\" target=\"_blank\">listes</a>, <a href=\"https://webge.fr/dokuwiki/doku.php?id=python:bases:tuples\" target=\"_blank\">tuples</a>, <a href=\"https://webge.fr/dokuwiki/doku.php?id=python:bases:controle#les_tests_ou_structures_alternatives\" target=\"_blank\">tests</a>, <a href=\"https://webge.fr/dokuwiki/doku.php?id=python:bases:controle#la_boucle_for\" target=\"_blank\">boucle for...</a> et <a href=\"https://webge.fr/dokuwiki/doku.php?id=python:bases:chaines#formatage\" target=\"_blank\">f-strings</a> en Python.\n",
    "\n",
    "En Python, les opérateurs logiques **and**, **or** et **not** permettent de formuler des expressions booléennes.\n",
    "Les valeurs logiques sont représentées par **0**(équivalent à False) et **1** (équivalent à True).\n",
    "\n",
    "L’exemple suivant illustre le test d’un opérateur **OU exclusif (XOR)** à deux entrées réalisé avec and, or et not."
   ]
  },
  {
   "cell_type": "code",
   "execution_count": null,
   "metadata": {},
   "outputs": [],
   "source": [
    "# Exemple introductif\n",
    "# Test d'un opérateur XOR à 2 entrées\n",
    "\n",
    "# Définition des vecteurs de test : (E1, E2, Sortie_attendue)\n",
    "vecteurs_XOR = [\n",
    "    (0, 0, 0),\n",
    "    (0, 1, 1),\n",
    "    (1, 0, 1),\n",
    "    (1, 1, 0)\n",
    "]\n",
    "\n",
    "print(\"[E1, E2] -> S (Test de la porte XOR)\")\n",
    "\n",
    "for E1, E2, sortie_attendue in vecteurs_XOR:\n",
    "    # Calcul de la sortie obtenue (XOR)\n",
    "    sortie_obtenue = (not(E1) and E2 or E1 and not(E2)) # Equation de la porte OU Exclusif, parenthèses INDISPENSABLES !\n",
    "                                                        \n",
    "    # Affichage du résultat\n",
    "    if sortie_obtenue == sortie_attendue:\n",
    "        print(f\"[{E1}, {E2}] -> {int(sortie_obtenue)}\") # int() affiche 1 (0) à la place de True (False)\n",
    "    else:\n",
    "        print(f\"[{E1}, {E2}] -> Erreur\")"
   ]
  },
  {
   "cell_type": "markdown",
   "metadata": {},
   "source": [
    ">**Activité 3. Simulons des erreurs de frappe !** <br>\n",
    ">\n",
    "> **Testez** les situations suivantes : \n",
    "> - Le vecteur (0,1,1) a été remplacé par (0,1,0). <br>\n",
    "> - L'opérateur or a été remplacé par un and. <br>\n",
    ">\n",
    "> a) Comment identifie-t-on une erreur dans la table ? <br>\n",
    "> b) Quelles sont les causes d'erreur lors du test d'un circuit logique programmable réel ? \n",
    ">\n",
    "> Répondez ci-dessous."
   ]
  },
  {
   "cell_type": "markdown",
   "metadata": {},
   "source": [
    "<span style=\"color:blue;\">**Réponse** :</span> ???\n",
    "\n"
   ]
  },
  {
   "cell_type": "markdown",
   "metadata": {},
   "source": [
    ">**Activité 4. Amélioration de l'affichage dans l'exemple introductif** <br>\n",
    ">\n",
    "> En reprenant l'exemple introductif, **complétez** le code ci-dessous pour que le résultat du test affiche Sa pour sortie_attendue, So pour sortie_obtenue et précise la position des erreurs.<br>\n",
    ">\n",
    "> Exemple de résultat attendu <br>\n",
    "> [E1,E2] -> Sa So <br>\n",
    "> [0,0] -> 0,0 <br>\n",
    "> [0,1] -> 0,1->Erreur <br>\n",
    "> [1,0] -> 1,1 <br>\n",
    "> [1,1] -> 0,0"
   ]
  },
  {
   "cell_type": "code",
   "execution_count": null,
   "metadata": {},
   "outputs": [],
   "source": [
    "# Exemple introductif modifié\n",
    "# Code de test d'une fonction XOR\n",
    "'''\n",
    "Test d'une porte OU Exclusif à 2 entrées\n",
    "E1, E2 : entrées\n",
    "S : sortie (on note Sa la sortie attendue et So est la sortie obtenue !)\n",
    "'''\n",
    "Vecteurs_XOR = [\n",
    "    (0, 0, 0), \n",
    "    (0, 1, 1), \n",
    "    (1, 0, 1), \n",
    "    (1, 1, 0)] # Une liste de tuples matérialise la table des vecteurs de test\n",
    "# A compléter"
   ]
  },
  {
   "cell_type": "markdown",
   "metadata": {},
   "source": [
    "### 4.C Test des sorties  RAM, ROM et OE de la fonction \"Décodage\"\n",
    "\n",
    "> **Activité 5**\n",
    ">\n",
    "> En vous inspirant de l'exemple introductif modifié et en utilisant les résultats des activités 1 et 2, écrivez le code de test de la sortie **RAM**. Simulez des erreurs de frappe."
   ]
  },
  {
   "cell_type": "code",
   "execution_count": null,
   "metadata": {},
   "outputs": [],
   "source": [
    "# Code de test de la sortie RAM\n",
    "Vecteurs_RAM = [] \n",
    "# A compléter"
   ]
  },
  {
   "cell_type": "markdown",
   "metadata": {},
   "source": [
    "> **Activité 6**\n",
    ">\n",
    "> En vous inspirant de l'exemple introductif modifié et en utilisant les résultats des activités 1 et 2, écrivez le code de test de la sortie **ROM**. Simulez des erreurs de frappe."
   ]
  },
  {
   "cell_type": "code",
   "execution_count": null,
   "metadata": {},
   "outputs": [],
   "source": [
    "# Code de test de la sortie ROM\n",
    "Vecteurs_ROM = []\n",
    "# A compléter"
   ]
  },
  {
   "cell_type": "markdown",
   "metadata": {},
   "source": [
    "> **Activité 7**\n",
    ">\n",
    "> En vous inspirant de l'exemple introductif modifié et en utilisant les résultats des activités 1 et 2, écrivez le code de test de la sortie **OE**. Simulez des erreurs de frappe."
   ]
  },
  {
   "cell_type": "code",
   "execution_count": null,
   "metadata": {},
   "outputs": [],
   "source": [
    "# Code de test de la sortie OE\n",
    "Vecteurs_OE = [] # A compléter\n",
    "# A compléter"
   ]
  },
  {
   "cell_type": "markdown",
   "metadata": {},
   "source": [
    "### 4.D Génération automatique de la table des vecteurs de test\n",
    "<ul> \n",
    "    <li><b>Ressources</b></li>\n",
    "    <ul>\n",
    "        <li><a href=\"https://webge.fr/doc/tnsi/tp/Architectures/AidecreerVecteursTest.pdf\" target=\"_blank\">Aide pour créer les Vecteurs de Test</a>\n",
    "    </li>\n",
    "<li><a href=\"https://webge.fr/dokuwiki/doku.php?id=python:bases:listes\" target=\"_blank\">listes</a>, <a href=\"https://webge.fr/dokuwiki/doku.php?id=python:bases:tuples\" target=\"_blank\">tuples</a>, <a href=\"https://webge.fr/dokuwiki/doku.php?id=python:bases:controle#les_tests_ou_structures_alternatives\" target=\"_blank\">tests</a>, <a href=\"https://webge.fr/dokuwiki/doku.php?id=python:bases:controle#la_boucle_for\" target=\"_blank\">boucle for...</a>, <a href=\"https://webge.fr/dokuwiki/doku.php?id=python:bases:chaines#formatage\" target=\"_blank\">f-strings</a> et <a href=\"https://webge.fr/dokuwiki/doku.php?id=python:bases:chaines#longueur_d_une_chaine_parcours_et_selection_slice\" target=\"_blank\">sélection dans une chaîne (slicing)</a> en Python.</li></ul>\n",
    "</ul>\n",
    "   \n",
    "Lorsque le nombre d'entrées augmente, la table des vecteurs de test devient imposante. Pour **n=6**, il faut écrire **64 vecteurs**. L'écriture d'une telle table devient fastidieuse et le risque d'erreur augmente. Il devient alors nécessaire de disposer d'une fonction de génération automatique de la table des vecteurs de test. \n",
    "\n",
    "On propose l'algorithme ci-dessous."
   ]
  },
  {
   "cell_type": "raw",
   "metadata": {},
   "source": [
    "Algorithme creerVecteursTest(n,vs)\n",
    "Entrées\n",
    "n : entier, nombre d'entrées de la fonction à tester\n",
    "vs : liste des valeurs attendues pour la sortie S de la fonction (notée Sa), de taille égale au nombre de vecteurs\n",
    "\n",
    "Sortie\n",
    "vecteurs :  liste des vecteurs de test complets, chaque vecteur comportant n bits d’entrée et la valeur de sortie correspondante\n",
    "\n",
    "début\n",
    "    pour i variant de 0 à (nombre_de_vecteur - 1) par pas de 1\n",
    "    faire\n",
    "       Construire le vecteur Vi(b_n-1, b_n-2,..., b0, Sa_i)\n",
    "       Ajouter Vi à la table vecteurs\n",
    "    fin faire\n",
    "    Renvoyer la table vecteurs\n",
    "fin"
   ]
  },
  {
   "cell_type": "markdown",
   "metadata": {},
   "source": [
    "**Remarque** : Python dispose de la fonction native <a href=\"https://docs.python.org/fr/3.6/library/functions.html#bin\" target=\"_blank\">bin</a>. Cette fonction convertit un nombre entier en binaire dans une chaîne avec le préfixe 0b."
   ]
  },
  {
   "cell_type": "code",
   "execution_count": null,
   "metadata": {},
   "outputs": [],
   "source": [
    "# Exemple à tester\n",
    "bin(8)"
   ]
  },
  {
   "cell_type": "markdown",
   "metadata": {},
   "source": [
    ">**Activité 8**\n",
    ">\n",
    "><em>Ressources</em> : <a href=\"https://webge.fr/dokuwiki/doku.php?id=python:bases:chaines#longueur_d_une_chaine_parcours_et_selection_slice\" target=\"_blank\">Les chaînes de caractères (slicing) </a> et <a href=\"https://waytolearnx.com/2020/07/python-la-methode-string-zfill.html\" target=\"_blank\">La méthode zfill().</a>\n",
    ">\n",
    "> **Complétez** la fonction *creerVecteursTest* ébauchée ci-dessous. <br> *Conseil : développer la fonction dans un éditeur (<a href=\"https://webge.fr/dokuwiki/doku.php?id=outils:vscode:pythonpaspas\" target=\"_blank\" title=\"Premiers programmes en Pyton étape par étape\">VSCode</a>, etc.) avant de la tester dans le notebook.*\n",
    ">\n",
    ">*Résultat attendu* pour n=3 <br>\n",
    ">vecteurs = [(0, 0, 0, 0), (0, 0, 1, 1), (0, 1, 0, 0), (0, 1, 1, 1), (1, 0, 0, 0), (1, 0, 1, 0), (1, 1, 0, 0), (1, 1, 1, 1)]"
   ]
  },
  {
   "cell_type": "code",
   "execution_count": null,
   "metadata": {},
   "outputs": [],
   "source": [
    "def creerVecteursTest(n, vs):\n",
    "    vecteurs = []\n",
    "    # A compléter\n",
    "    \n",
    "    return vecteurs\n",
    "\n",
    "# Test de la sortie Rom\n",
    "Roma = [0, 1, 0, 1, 0, 0, 0, 1]\n",
    "tableVecteurs = creerVecteursTest(3, Roma)\n",
    "print(tableVecteurs)"
   ]
  },
  {
   "cell_type": "markdown",
   "metadata": {},
   "source": [
    "> **Activité 9**.\n",
    ">\n",
    "> **Utilisez** la fonction *creerVecteurTest* pour tester la sortie **OE**."
   ]
  },
  {
   "cell_type": "code",
   "execution_count": null,
   "metadata": {},
   "outputs": [],
   "source": [
    "# Code de test de OE avec la fonction creerVecteurTest \n",
    "OEa = [] # OE attendu à compléter\n",
    "Vecteurs_OE = creerVecteursTest(4, OEa)\n",
    "print(\"[A15,A14,A13,A12] -> OEa OEo\")\n",
    "# A compléter"
   ]
  },
  {
   "cell_type": "markdown",
   "metadata": {},
   "source": [
    "## 5. Synthèse dans WokWi : code du testeur de circuits logiques\n",
    "Wokwi est un <b>simulateur en ligne</b>, programmable en C et en <b>microPython</b>. Il permet de programmer des cartes comme **Arduino, ESP32**, ou **Raspberry Pi Pico**, et de les tester avec un large éventail de composants électroniques standards.\n",
    "\n",
    "<div style=\"text-align:center\"><img src=\"img/wokwi.png\"></div>\n",
    "\n",
    "**Activité 10**.\n",
    "\n",
    "Dans cette activité, vous allez utiliser Wokwi pour **concevoir et valider** le programme d’un **testeur de circuits intégrés logiques (CI logiques)**.\n",
    "\n",
    "Étapes à suivre :\n",
    "\n",
    " <ol>\n",
    "        <li>\n",
    "            <strong>Ouvrir l’exemple</strong>\n",
    "            <ul>\n",
    "                <li>Lancez le projet sur Wokwi en cliquant ici : <a href=\"https://wokwi.com/projects/379094333458811905\" target=\"_blank\">Testeur de CI logique</a>.</li>\n",
    "            </ul>\n",
    "        </li>\n",
    "        <li>\n",
    "            <strong>Créer un compte sur Wokwi</strong>\n",
    "            <ul>\n",
    "                <li>Inscrivez-vous à l’aide d’une <strong>adresse e-mail</strong>.</li>\n",
    "                <strong>⚠️ Nutilisez pas</strong> l’option de connexion via <strong>GitHub</strong>.\n",
    "            </ul>\n",
    "        </li>\n",
    "        <li>\n",
    "            <strong>Suivre les instructions</strong>\n",
    "            <ul>\n",
    "                <li>Ouvrez le fichier <code>Lisezmoi.txt</code> présent dans le projet.</li>\n",
    "                <li>Suivez attentivement les consignescontenues dans ce fichier.</li>\n",
    "            </ul>\n",
    "        </li>\n",
    "    </ol>"
   ]
  },
  {
   "cell_type": "code",
   "execution_count": null,
   "metadata": {},
   "outputs": [],
   "source": []
  }
 ],
 "metadata": {
  "kernelspec": {
   "display_name": "Python 3 (ipykernel)",
   "language": "python",
   "name": "python3"
  },
  "language_info": {
   "codemirror_mode": {
    "name": "ipython",
    "version": 3
   },
   "file_extension": ".py",
   "mimetype": "text/x-python",
   "name": "python",
   "nbconvert_exporter": "python",
   "pygments_lexer": "ipython3",
   "version": "3.13.3"
  }
 },
 "nbformat": 4,
 "nbformat_minor": 4
}
